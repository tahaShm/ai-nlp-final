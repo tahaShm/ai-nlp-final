{
 "cells": [
  {
   "cell_type": "markdown",
   "metadata": {},
   "source": [
    "<h1 style = \"font-size: 35px; text-align: center;\">AI Final project</h1>\n",
    "<h1 style = \"font-size: 35px; text-align: center;\">Regression machine learning</h1>\n",
    "<h1 style = \"font-size: 32px; text-align: center; color: #666\">Taha Shabani 810196491</h1>"
   ]
  },
  {
   "cell_type": "markdown",
   "metadata": {},
   "source": [
    "<br>\n",
    "<h1 style = \"text-align: center\">Introduction</h1>\n",
    "<br>\n",
    "<h2>Definition of project:</h2>\n",
    "<p style = \"font-size: 14px\">In this project we face a regression problem and try to solve it using methods we've learned during this course about <b>machine learning, training, networks, preprocessing, tuning and etc</b> : </p>\n",
    "<br>\n",
    "<p><mark>Phase 1 :</mark> we read dataset from <b>mobile_phone_dataset.csv</b> using <b>pandas dataframe</b> and perform some preprocessings on columns <b>except for two columns</b> : title, desc. main tasks : </p>\n",
    "<p style=\"text-indent :2em;\">1.1. onehot encoding for categorical columns</p>\n",
    "<p style=\"text-indent :2em;\">1.2. preprocessing of time.</p>\n",
    "<p style=\"text-indent :2em;\">1.3. correction and preprocessing of price.</p>\n",
    "<p style=\"text-indent :2em;\">1.4. oversampling for better solutions.</p>\n",
    "<p style=\"text-indent :2em;\">1.5. showing information gain for current results.</p>\n",
    "<br>\n",
    "\n",
    "<p><mark>Phase 2 :</mark> in this part we perform preprocessing for <b>title and desc</b> : </p>\n",
    "<p style=\"text-indent :2em;\">2.1. lowering all capital letters</p>\n",
    "<p style=\"text-indent :2em;\">2.2. normalization.</p>\n",
    "<p style=\"text-indent :2em;\">2.3. removing stop words and non-relative words such as <u>سلام</u> for example.</p>\n",
    "<p style=\"text-indent :2em;\">2.4. lemmatization.</p>\n",
    "<p style=\"text-indent :2em;\">2.5. counting repeats per every word in columns (title and desc separately).</p>\n",
    "<p style=\"text-indent :2em;\">2.6. sort words(useful words) in a descending form based on their repeats.</p>\n",
    "<br>\n",
    "\n",
    "<p><mark>Phase 3 :</mark> goal of this phase is to adding top words as new features in our dataset and finally split data into train and test data : </p>\n",
    "<p style=\"text-indent :2em;\">3.1. choosing top words</p>\n",
    "<p style=\"text-indent :2em;\">3.2. adding top words as features (done for both columns: title and desc).</p>\n",
    "<p style=\"text-indent :2em;\">3.3. preparing data and target_data (prices) for splitting.</p>\n",
    "<p style=\"text-indent :2em;\">3.4. preparing test and train data.</p>\n",
    "<br>\n",
    "\n",
    "<p><mark>Phase 4 :</mark> we test our data over multiple regression models and try to improve performance : </p>\n",
    "<p style=\"text-indent :2em;\">4.1. linear regression</p>\n",
    "<p style=\"text-indent :2em;\">4.2. random forest regression</p>\n",
    "<p style=\"text-indent :2em;\">4.3. ridge regression</p>\n",
    "<p style=\"text-indent :2em;\">4.4. svr regression.</p>\n",
    "<p style=\"text-indent :2em;\">4.5. light gbm regression.</p>\n",
    "<br>\n",
    "\n",
    "<p><mark>Phase 5 :</mark>exports and conclusion.</p>\n",
    "\n",
    "\n",
    "\n",
    "\n",
    "\n"
   ]
  },
  {
   "cell_type": "code",
   "execution_count": 1,
   "metadata": {},
   "outputs": [],
   "source": [
    "import csv\n",
    "import pandas as pd\n",
    "import math\n",
    "import numpy as np\n",
    "import datetime\n",
    "from sklearn import preprocessing\n",
    "from sklearn.preprocessing import StandardScaler\n",
    "from sklearn.feature_selection import mutual_info_classif\n",
    "import matplotlib.pyplot as plt\n",
    "import scipy.stats as stats"
   ]
  },
  {
   "cell_type": "code",
   "execution_count": 2,
   "metadata": {},
   "outputs": [],
   "source": [
    "def showProgressPercentage(current, total) : \n",
    "    prevPercentage = int ((current-1) / total * 100)\n",
    "    currPrecentage = int (current / total * 100)\n",
    "    progress = 0\n",
    "    if (currPrecentage >= 90 and prevPercentage < 90) : \n",
    "        progress = 90\n",
    "    elif (currPrecentage >= 80 and prevPercentage < 80) : \n",
    "        progress = 80 \n",
    "    elif (currPrecentage >= 70 and prevPercentage < 70) : \n",
    "        progress = 70 \n",
    "    elif (currPrecentage >= 60 and prevPercentage < 60) : \n",
    "        progress = 60 \n",
    "    elif (currPrecentage >= 50 and prevPercentage < 50) : \n",
    "        progress = 50 \n",
    "    elif (currPrecentage >= 40 and prevPercentage < 40) : \n",
    "        progress = 40 \n",
    "    elif (currPrecentage >= 30 and prevPercentage < 30) : \n",
    "        progress = 30 \n",
    "    elif (currPrecentage >= 20 and prevPercentage < 20) : \n",
    "        progress = 20 \n",
    "    elif (currPrecentage >= 10 and prevPercentage < 10) : \n",
    "        progress = 10 \n",
    "    if (progress > 0) :\n",
    "        print(progress, \"%\")\n",
    "        \n",
    "def mapDayToNumber(day) :\n",
    "    dayOfWeeks = [\"Saturday\", \"Sunday\", \"Monday\", \"Tuesday\", \"Wednesday\", \"Thursday\", \"Friday\"]\n",
    "    for i in range(len(dayOfWeeks)) : \n",
    "        if (dayOfWeeks[i] == day) : \n",
    "            return i+1\n",
    "    return 0\n",
    "def mapTimeToNumber(time) :\n",
    "    times = [\"12AM\", \"01AM\", \"02AM\", \"03AM\", \"04AM\", \"05AM\", \"06AM\", \"07AM\", \"08AM\", \"09AM\", \"10AM\", \"11AM\", \"12PM\", \"01PM\", \"02PM\", \"03PM\", \"04PM\", \"05PM\", \"06PM\", \"07PM\", \"08PM\", \"09PM\", \"10PM\", \"11PM\"]\n",
    "    for i in range(len(times)) : \n",
    "        if (times[i] == time) : \n",
    "            return i\n",
    "    return 0\n",
    "    \n",
    "def fetchDay(createTime)  :\n",
    "    [dayOfWeek, time] = createTime.split(' ')\n",
    "    return mapDayToNumber(dayOfWeek)\n",
    "\n",
    "def fetchTime(createTime) : \n",
    "    [dayOfWeek, time] = createTime.split(' ')\n",
    "    return mapTimeToNumber(time)\n",
    "\n",
    "def correctThePrice(oldPrice) : \n",
    "    newPrice = oldPrice\n",
    "    if (4500 < oldPrice < 10000) : \n",
    "        newPrice = -11 #just a number beneath -1 and also -10\n",
    "    \n",
    "    elif (10 <= oldPrice <= 4500) : \n",
    "        newPrice = oldPrice * 1000\n",
    "        \n",
    "    elif (0 < oldPrice < 10) : \n",
    "        newPrice = -11\n",
    "    \n",
    "    return newPrice\n",
    "\n",
    "def getAveragePricesPerBrands(df, brands) : \n",
    "    sums = { i : 0 for i in brands }\n",
    "    repeats = { i : 0 for i in brands }\n",
    "    avgs = { i : 0 for i in brands }\n",
    "    for index, dfRow in df.iterrows() :\n",
    "        price = dfRow['price']\n",
    "        if (price != -1) : \n",
    "            sums[dfRow['brand']] += price\n",
    "            repeats[dfRow['brand']] += 1\n",
    "    for brand in brands : \n",
    "        avgs[brand] = int(sums[brand] / repeats[brand])\n",
    "    return [avgs, repeats]\n",
    "        \n",
    "    "
   ]
  },
  {
   "cell_type": "markdown",
   "metadata": {},
   "source": [
    "<br>\n",
    "\n",
    "<h1 style= \"text-align: center\">Phase 1</h1>\n",
    "<br>\n",
    "<h3> 1. Preprocessing (except for title and desc): </h3>\n",
    "\n",
    "<mark>1.1. Onehot encoding for categorical columns</mark>\n",
    "<p style=\"text-indent :2em;\">For <b>brand</b> and <b>city</b> which are categorical data, we had two choices: <u> one hot encoding and labeled encoding</u> : </p>\n",
    "<h4 style = \"color: red\">One hot Encodling vs Labeled encoding</h4>\n",
    "<p>\n",
    "    As we mentioned, these encodings are used for categorical data, which in our case is <b>Country</b> column.\n",
    "    <br>\n",
    "    <br>\n",
    "    <b>One Hot</b> adds a column for every different values in categorical column and sets the bit for current value to 1 and 0 for the rest. for example if countries are (USA, Frace, Germany) and if current country is Germany we will have (0,0,1).\n",
    "    <br>\n",
    "    On the other side <b>Labeled</b> maps every value to a numeric one, for example (USA -> 1, Frace -> 2, Germany -> 3).\n",
    "    <br>\n",
    "    <br>\n",
    "    <b>One Hot cons</b>: As it's clear, OneHot makes the data too big and adds lots of columns, so operations might get a little slower and overfitting is probable. In these cases we use labeled encoding or some method like scaling and ...\n",
    "    <br>\n",
    "    <b>Labeled cons</b>: Label encoding is acceptable for discrete values but not continuous ones, plus, it could trigger some issues for classifers, for example as we said we assigned USA to 1 and Frace to 2, now Frace has a higher value with no reason, and it can be harmful for network accuracy.\n",
    "    \n",
    "</p>\n",
    "<p style=\"text-indent :2em;\">So because columns were not a lot and one hot works better for our model, we decided to use one hot encoding: </p>\n",
    "<br>\n",
    "\n",
    "<mark>1.2. preprocessing of time.</mark>\n",
    "<p style=\"text-indent :2em;\">In this process, we just separate day of week and hour of day and add them as two numbers [1-7] and [0-23] respectively.</p>\n",
    "<br>\n",
    "\n",
    "<mark>1.3. correction and preprocessing of price.</mark>\n",
    "<p style=\"text-indent :2em;\">1.3.1 : we delete prices on invalid ranges for example between [0,10] and etc.</p>\n",
    "<p style=\"text-indent :2em;\">1.3.2 : we replace -1 prices with average of current category, for instance if we have a -1 for an apple one, we replace -1 with average of all apple prices.</p>\n",
    "\n",
    "<br>\n",
    "\n",
    "<mark>1.4. oversampling for better solutions.</mark>\n",
    "<p style=\"text-indent :2em;\">As we see nokia has least average (about 250000 tomans) price and it's repeats are close to 4000. so we oversampled it for twice of its size (ultimately about 8000 rows) just to improve performance -> <b>mse improves for about 4000 tomans on average.</b></p>\n",
    "<br>\n",
    "\n",
    "<mark>1.5. showing information gain for current results.\n",
    "<p style=\"text-indent :2em;\">We depict information gains using <b>mutual_info_classif()</b>.</p>\n",
    "<br> "
   ]
  },
  {
   "cell_type": "code",
   "execution_count": 3,
   "metadata": {},
   "outputs": [],
   "source": [
    "def getProcessedNonTextData(dataFile, brandEncType = \"onehot\", cityEncType = \"onehot\") : \n",
    "    data = []\n",
    "    valData = []\n",
    "    targetData = []\n",
    "    col_list = [\"brand\", \"city\", \"title\", \"desc\", \"image_count\", \"created_at\", \"price\"]\n",
    "    df = pd.read_csv(dataFile, usecols=col_list)\n",
    "    \n",
    "    print(\"preprocessing started...\")\n",
    "    \n",
    "    if (brandEncType == \"onehot\") :\n",
    "        df = pd.concat([df,pd.get_dummies(df['brand'], prefix = \"brand\")],axis=1)\n",
    "    \n",
    "    print(\"brand onehot encoding done...\")\n",
    "        \n",
    "    if (cityEncType == \"onehot\") :\n",
    "        df = pd.concat([df,pd.get_dummies(df['city'], prefix = \"city\")],axis=1)\n",
    "        \n",
    "    print(\"city onehot encoding done...\")\n",
    "    \n",
    "    df['dayOfweek'] = df.apply(lambda row : fetchDay(row['created_at']), axis = 1) \n",
    "    df['time'] = df.apply(lambda row : fetchTime(row['created_at']), axis = 1) \n",
    "    del df['created_at']\n",
    "    \n",
    "    print(\"time preprocessing done...\")\n",
    "    \n",
    "    df['price'] = df.apply(lambda row : correctThePrice(row['price']), axis = 1)\n",
    "    df = df.loc[df['price'] > -10]\n",
    "    \n",
    "    brands = df.brand.unique()\n",
    "    [avgPrices, rep] = getAveragePricesPerBrands(df, brands)\n",
    "    \n",
    "    print(\"price correction done, average price per every brand calculated...\")\n",
    "    \n",
    "    nokiaRows = df[df['brand'] == \"Nokia::نوکیا\"]\n",
    "    df = df.append(nokiaRows)\n",
    "    \n",
    "    print(\"nokia rows oversampled just to improve performance...\")\n",
    "    \n",
    "    \n",
    "    for index, dfRow in df.iterrows() :\n",
    "        price = dfRow['price']\n",
    "        if (price == -1) : \n",
    "            price = avgPrices[dfRow['brand']]\n",
    "        targetData.append(price)\n",
    "        del dfRow['price']\n",
    "        del dfRow['brand']\n",
    "        del dfRow['city']  \n",
    "        data.append(dfRow)\n",
    "    \n",
    "    for index, dfRow in df.iterrows() :\n",
    "        price = dfRow['price']\n",
    "        if (price == -1) : \n",
    "            price = avgPrices[dfRow['brand']]\n",
    "        del dfRow['price']\n",
    "        del dfRow['brand']\n",
    "        del dfRow['city']  \n",
    "        del dfRow['title']\n",
    "        del dfRow['desc']\n",
    "        valData.append(dfRow)\n",
    "        \n",
    "    \n",
    "    labels = list(df)\n",
    "    labels.remove('price')\n",
    "    labels.remove('brand')\n",
    "    labels.remove('city')\n",
    "    valLabels = list(df)\n",
    "    valLabels.remove('price')\n",
    "    valLabels.remove('brand')\n",
    "    valLabels.remove('city')\n",
    "    valLabels.remove('title')\n",
    "    valLabels.remove('desc')\n",
    "    \n",
    "    print(\"part1 done.\")\n",
    "    return [df, data, valData, targetData, labels, valLabels]"
   ]
  },
  {
   "cell_type": "code",
   "execution_count": 4,
   "metadata": {},
   "outputs": [
    {
     "name": "stdout",
     "output_type": "stream",
     "text": [
      "preprocessing started...\n",
      "brand onehot encoding done...\n",
      "city onehot encoding done...\n",
      "time preprocessing done...\n",
      "price correction done, average price per every brand calculated...\n",
      "nokia rows oversampled just to improve performance...\n",
      "part1 done.\n"
     ]
    }
   ],
   "source": [
    "[df, data, valData, targetData, labels, valLabels] = getProcessedNonTextData(\"mobile_phone_dataset.csv\")"
   ]
  },
  {
   "cell_type": "code",
   "execution_count": 5,
   "metadata": {},
   "outputs": [
    {
     "data": {
      "image/png": "[encoded data removed]",
      "text/plain": [
       "<Figure size 864x432 with 1 Axes>"
      ]
     },
     "metadata": {
      "needs_background": "light"
     },
     "output_type": "display_data"
    }
   ],
   "source": [
    "informationGains = mutual_info_classif(valData, targetData)\n",
    "def showInformationGains(labels) :\n",
    "    plt.figure(figsize=(12, 6))\n",
    "    plt.plot(informationGains) \n",
    "    plt.xticks(range(len(labels)), labels, rotation=90)\n",
    "    plt.xlabel('Features') \n",
    "    plt.ylabel('Gain') \n",
    "    plt.title('Information Gain') \n",
    "\n",
    "    plt.show()\n",
    "showInformationGains(valLabels)"
   ]
  },
  {
   "cell_type": "markdown",
   "metadata": {},
   "source": [
    "<br>\n",
    "\n",
    "<h1 style= \"text-align: center\">Phase 2</h1>\n",
    "<br>\n",
    "<h3> 2. Preprocessing title and desc using hazm library : </h3>\n",
    "<p>In this phase we separately do following acts on both title and desc : </p>\n",
    "\n",
    "<mark>2.1. lowering all capital letters.</mark>\n",
    "<p style=\"text-indent :2em;\">This process makes for example \"ASUS\" and \"Asus\" the same and helps for feature extraction.</p>\n",
    "<br>\n",
    "\n",
    "<mark>2.2. normalization.</mark>\n",
    "<p style=\"text-indent :2em;\">In order to normalize context fo titles and descs.</p>\n",
    "<br>\n",
    "\n",
    "<mark>2.3. removing stop words and non-relative words such as سلام for example.</mark>\n",
    "<p>We generated a set named <b>stop_words</b> and add these words in it : </p>\n",
    "<p style=\"text-indent :2em;\">2.3.1 : persian stop words <b>(provided by hazm)</b></p>\n",
    "<p style=\"text-indent :2em;\">2.3.2 : english stop words <b>(provided by nltk)</b></p>\n",
    "<p style=\"text-indent :2em;\">2.3.3 : irrelative words such as سلام for example</p>\n",
    "<p style=\"text-indent :2em;\">2.3.4 : punctuations</p>\n",
    "\n",
    "<br>\n",
    "\n",
    "<mark>2.4. lemmatization.</mark>\n",
    "<p style=\"text-indent :2em;\">We had two choices: stemming or lemmatization and for our project lemmatization works better because it replace words with it's base word.</p>\n",
    "<br>\n",
    "\n",
    "<mark>2.5. counting repeats per every word in columns (title and desc separately).</mark>\n",
    "<p style=\"text-indent :2em;\">We count repeats or each word which are not in stop_words separatly for title and desc columns.</p>\n",
    "<br> \n",
    "\n",
    "<mark>2.6. sort words(useful words) in a descending form based on their repeats.</mark>\n",
    "<p style=\"text-indent :2em;\">In order to choose top words in future as new features.</p>\n",
    "<br> \n",
    "\n",
    "<p><b>NOTE: instead of counting number of repeats we could use tf_idf method for words as features, but due to time limitations, we couldn't test that.</b></p>\n",
    "<br>"
   ]
  },
  {
   "cell_type": "code",
   "execution_count": 6,
   "metadata": {},
   "outputs": [],
   "source": [
    "import hazm\n",
    "from hazm.WordTokenizer import WordTokenizer\n",
    "from nltk.corpus import stopwords \n",
    "from hazm.Lemmatizer import Lemmatizer\n",
    "from hazm.Normalizer import Normalizer\n",
    "import operator\n",
    "\n",
    "stop_words_fa = set(hazm.utils.stopwords_list()) \n",
    "stop_words_en = set(stopwords.words('english')) \n",
    "punctuations = {\",\", \".\", \"(\", \")\", \";\", \":\", \"؛\", \"،\"}\n",
    "bulshits = {\"معاوضه\", \"تی\", \"n\", \"کارت\", \"رنگ\", \"se\", \"تعویض\", \"ساده\", \"لا\", \"حتما\", \"پرید#پر\", \"فروشی\", \"بخونید\", \"عدد\", \"قیمت\", \"داره\", \"تخفیف\", \"هست\", \"داشت#دار\", \"سلام\", \"تماس\", \"فروش\", \"میدم\", \"یه\", \"نداره\", \"خریدار\", \"لطفا\", \"مقطوع\", \"شرط\", \"خرید#خر\", \"کارتن\", \"میباشد\", \"تشکر\", \"میکنم\", \"العاده\", \"عدد\", \"ممنون\", \"فوری\", \"خودم\", \"عکس\", \"دی\", \"-\", \"معامله\", \"کارتون\", \"پیامک\", \"مشتری\", \"هستش\", \"جواب\", \"هفته\", \"پای\", \"جانبی\", \"میشه\", \"زنگ\", \"تومن\", \"باتشکر\", \"اصلا\", \"کرد#کن\", \"باسلام\", \"فروخت#فروش\", \"مگاپیکسل\", \"میخوام\", \"مهلت\", \"میشود\", \"ب\", \"یاعلی\", \"اگه\", \"گذاشت#گذار\", \"واقعا\", \"تومان\", \"باشه\"}\n",
    "stop_words = stop_words_fa.union(stop_words_en)\n",
    "stop_words = stop_words.union(punctuations)\n",
    "stop_words = stop_words.union(bulshits)\n",
    "\n",
    "normalizer = Normalizer()\n",
    "tokenizer = WordTokenizer()\n",
    "lemmatizer = Lemmatizer()\n",
    "# print(stop_words)\n",
    "\n",
    "def lowerAllCharacters(context) :\n",
    "    context = context.lower()\n",
    "    return context\n",
    "\n",
    "def normalizeContext(context) : \n",
    "    context = normalizer.affix_spacing(context)\n",
    "    context = normalizer.character_refinement(context)\n",
    "    context = normalizer.punctuation_spacing(context)\n",
    "    return context\n",
    "\n",
    "def removeStopWordsAndPunctuations(context) : \n",
    "#     tokenizer = RegexpTokenizer(r'\\w+')\n",
    "    context = tokenizer.tokenize(context)\n",
    "    \n",
    "    filtered_sentence = [] \n",
    "    \n",
    "    for w in context: \n",
    "        if w not in stop_words: \n",
    "            filtered_sentence.append(w)\n",
    "    return filtered_sentence\n",
    "\n",
    "def lemmatizeWords(wordList) : \n",
    "    for i in range(len(wordList)):\n",
    "        wordList[i] = lemmatizer.lemmatize(wordList[i])\n",
    "            \n",
    "    return wordList\n",
    "\n",
    "def finalStopCheck(wordList) : \n",
    "    filtered_sentence = [] \n",
    "    \n",
    "    for w in wordList: \n",
    "        if w not in stop_words: \n",
    "            filtered_sentence.append(w)\n",
    "    return filtered_sentence\n",
    "\n",
    "def getProcessedWords(context) : \n",
    "    context = lowerAllCharacters(context)\n",
    "    context = normalizeContext(context)\n",
    "#     wordList = []\n",
    "    wordList = removeStopWordsAndPunctuations(context)\n",
    "    wordList = lemmatizeWords(wordList)\n",
    "    wordList = finalStopCheck(wordList)\n",
    "    return wordList\n"
   ]
  },
  {
   "cell_type": "code",
   "execution_count": 7,
   "metadata": {},
   "outputs": [],
   "source": [
    "def getProcessedTextData(data, rowName) : \n",
    "    totalWords = {}\n",
    "    wordLists = []\n",
    "    for row in data :\n",
    "        wordList = getProcessedWords(row[rowName])\n",
    "        wordLists.append(wordList)\n",
    "        for word in wordList : \n",
    "            if word in totalWords : \n",
    "                totalWords[word] += 1\n",
    "            else :\n",
    "                totalWords[word] = 1\n",
    "#         print(i)\n",
    "#         print(row['title'])\n",
    "#         print(wordList)\n",
    "#         print(\"_____________________________________________________\")\n",
    "    return [wordLists, totalWords]"
   ]
  },
  {
   "cell_type": "code",
   "execution_count": 11,
   "metadata": {},
   "outputs": [],
   "source": [
    "[titleWordLists, totalTitleWords] = getProcessedTextData(data, 'title')"
   ]
  },
  {
   "cell_type": "code",
   "execution_count": 12,
   "metadata": {},
   "outputs": [],
   "source": [
    "[descWordLists, totalDescWords] = getProcessedTextData(data, 'desc')"
   ]
  },
  {
   "cell_type": "code",
   "execution_count": 13,
   "metadata": {},
   "outputs": [],
   "source": [
    "sortedTitleWords = sorted(totalTitleWords.items(),key=operator.itemgetter(1),reverse=True)\n",
    "sortedDescWords = sorted(totalDescWords.items(),key=operator.itemgetter(1),reverse=True)\n",
    "# print(sortedTitleWords)\n",
    "# print(sortedDescWords)\n"
   ]
  },
  {
   "cell_type": "code",
   "execution_count": 14,
   "metadata": {},
   "outputs": [],
   "source": [
    "handedFeatures = {\"آیفون\", \"ایفون\", \"apple\", \"اپل\", \"iphone\", \"samsung\", \"سامسونگ\", \"galaxy\", \"گلکسی\", \"nokia\", \"نوکیا\", \"huawei\", \"هوآوی\", \"هواوی\", \"lg\", \"الجی\", \"zte\", \"sony\", \"سونی\", \"htc\", \"اچ_تی_سی\", \"lenovo\", \"لنوو\"}\n",
    "def getImpWords(wordList, amount) : \n",
    "    words = set()\n",
    "    i = 0\n",
    "    for word in wordList :\n",
    "        if (i >= amount) : \n",
    "            break\n",
    "        words.add(word[0])\n",
    "        i += 1\n",
    "    words = words.union(handedFeatures)\n",
    "    return words"
   ]
  },
  {
   "cell_type": "code",
   "execution_count": 15,
   "metadata": {},
   "outputs": [],
   "source": [
    "titleImpWords = getImpWords(sortedTitleWords, 210)\n",
    "descImpWords = getImpWords(sortedDescWords, 200)\n",
    "# print(len(titleImpWords))\n",
    "# print(len(descImpWords))"
   ]
  },
  {
   "cell_type": "markdown",
   "metadata": {},
   "source": [
    "<br>\n",
    "\n",
    "<h1 style= \"text-align: center\">Phase 3</h1>\n",
    "<br>\n",
    "<h3> 3. Preprocessing title and desc using hazm library : </h3>\n",
    "\n",
    "\n",
    "<mark>3.1. choosing top words</mark>\n",
    "<p style=\"text-indent :2em;\">We choosed 210 top words (empirically) for both title and desc columns and add some important words to them -> <b>handedFeatures</b>. </p>\n",
    "<br>\n",
    "\n",
    "<mark>3.2. adding top words as features (done for both columns: title and desc).</mark>\n",
    "<p style=\"text-indent :2em;\"><b>addFeatures()</b> addes every feature to columns for both title and desc </p>\n",
    "<p style=\"text-indent :2em;\"><b>Why we added these features?</b> because as we saw previously, information gains were not good enough, plus, results without processing on title and desc were not acceptable (mse ~ 400,000 which is awful) \n",
    "<br>\n",
    "\n",
    "<mark>3.3. preparing data and target_data (prices) for splitting.</mark>\n",
    "<p style=\"text-indent :2em;\">We delete <u>price, brand, city, title, and description</u> to gain pure numeric values for every column and to be able to train over data using <b>getDatas()</b>.</p>\n",
    "\n",
    "<br>\n",
    "\n",
    "<mark>3.4. preparing test and train data.</mark>\n",
    "<p style=\"text-indent :2em;\">Using <b>split_test_train</b> provided by <b>sklearn</b> -> (test size: 20% which is common for test size).</p>\n",
    "<br>"
   ]
  },
  {
   "cell_type": "code",
   "execution_count": 16,
   "metadata": {},
   "outputs": [],
   "source": [
    "# print(titleImpWords)\n",
    "# print(descImpWords)\n",
    "def checkFeature(i, feature, wordList, bias) : \n",
    "    if (feature in wordList[i]) : \n",
    "        return bias\n",
    "    return 0"
   ]
  },
  {
   "cell_type": "code",
   "execution_count": 17,
   "metadata": {},
   "outputs": [],
   "source": [
    "def rowIndex(row):\n",
    "    return row.name\n",
    "def addFeatures(prefix, df, impWords, wordLists, bias=1) :\n",
    "    i = 0\n",
    "    totalSize = len(impWords)\n",
    "    df[\"rowIndex\"] = list(range(len(df)))\n",
    "    for feature in impWords : \n",
    "        df[prefix + feature] = df.apply(lambda row : checkFeature(row['rowIndex'], feature, wordLists, bias), axis = 1) \n",
    "        i += 1\n",
    "        showProgressPercentage(i, totalSize)\n",
    "    return df"
   ]
  },
  {
   "cell_type": "code",
   "execution_count": 18,
   "metadata": {},
   "outputs": [
    {
     "name": "stdout",
     "output_type": "stream",
     "text": [
      "10 %\n",
      "20 %\n",
      "30 %\n",
      "40 %\n",
      "50 %\n",
      "60 %\n",
      "70 %\n",
      "80 %\n",
      "90 %\n"
     ]
    }
   ],
   "source": [
    "df2 = addFeatures(\"title_\", df, titleImpWords, titleWordLists, 2)"
   ]
  },
  {
   "cell_type": "code",
   "execution_count": 19,
   "metadata": {},
   "outputs": [
    {
     "name": "stdout",
     "output_type": "stream",
     "text": [
      "10 %\n",
      "20 %\n",
      "30 %\n",
      "40 %\n",
      "50 %\n",
      "60 %\n",
      "70 %\n",
      "80 %\n",
      "90 %\n"
     ]
    }
   ],
   "source": [
    "df2 = addFeatures(\"desc_\", df, descImpWords, descWordLists, 1)"
   ]
  },
  {
   "cell_type": "code",
   "execution_count": 20,
   "metadata": {},
   "outputs": [],
   "source": [
    "def getDatas(df) :\n",
    "    data = []\n",
    "    targetData = []\n",
    "    brands = df.brand.unique()\n",
    "    [avgPrices, repeats] = getAveragePricesPerBrands(df, brands)\n",
    "    \n",
    "    for index, dfRow in df.iterrows() :\n",
    "        price = dfRow['price']\n",
    "        if (price == -1) : \n",
    "            price = avgPrices[dfRow['brand']]\n",
    "        targetData.append(price)\n",
    "#         print(dfRow[\"desc_lla\"])\n",
    "        del dfRow['price']\n",
    "        del dfRow['brand']\n",
    "        del dfRow['city']\n",
    "        del dfRow['title']\n",
    "        del dfRow['desc']\n",
    "        data.append(dfRow)\n",
    "    \n",
    "    labels = list(df)\n",
    "    labels.remove('price')\n",
    "    labels.remove('brand')\n",
    "    labels.remove('city')\n",
    "    labels.remove('title')\n",
    "    labels.remove('desc')\n",
    "    print(\"preprocessing done.\")\n",
    "    return [df, data, targetData, labels]"
   ]
  },
  {
   "cell_type": "code",
   "execution_count": 21,
   "metadata": {},
   "outputs": [
    {
     "name": "stdout",
     "output_type": "stream",
     "text": [
      "preprocessing done.\n"
     ]
    }
   ],
   "source": [
    "[df2, data2, targetData2, labels2] = getDatas(df)"
   ]
  },
  {
   "cell_type": "code",
   "execution_count": 22,
   "metadata": {},
   "outputs": [],
   "source": [
    "from sklearn.model_selection import train_test_split\n",
    "from sklearn.neighbors import KNeighborsClassifier\n",
    "\n",
    "from sklearn.model_selection import cross_val_score\n",
    "from sklearn.tree import DecisionTreeClassifier\n",
    "\n",
    "from sklearn.linear_model import LogisticRegression\n",
    "\n",
    "trainData, testData, trainTarget, testTarget = train_test_split(data2, targetData2, test_size=0.20)"
   ]
  },
  {
   "cell_type": "markdown",
   "metadata": {},
   "source": [
    "<br>\n",
    "\n",
    "<h1 style= \"text-align: center\">Phase 4</h1>\n",
    "<br>\n",
    "<h3> 4. Testing different regression models : </h3>\n",
    "\n",
    "<mark>4.1. linear regression</mark>\n",
    "<p style=\"text-indent :2em;\">This regression is a linear approximation for our model which uses a coefficient for our input and a bias which is added to it. We have two types of linear regressions : </p>\n",
    "<img src = \"https://miro.medium.com/max/3444/1*uLHXR8LKGDucpwUYHx3VaQ.png\" width = \"500px\">\n",
    "<br>\n",
    "\n",
    "<mark>4.2. random forest regression</mark>\n",
    "<p style=\"text-indent :2em;\">Random Forest is like bagging which takes a percentage of features and data randomly. here we implement a random forest regression which is similar to normal random forest and tune max_depth, n_estimator and percentage of features. results were significantly better than linear because our model now view data from different view points and different features which makes it more reliable.</p>\n",
    "<br>\n",
    "\n",
    "<mark>4.3. ridge regression</mark>\n",
    "<p style=\"text-indent :2em;\">It is variation of linear Regression, and is used to improve results in comparison  to linear regression.</p>\n",
    "<p style=\"text-indent :2em;\">In comparison to other models like ols(Ordinary least squares) which has low bias and high variace sometimes, ridge regression would words better. In ridge regression, you can tune the lambda parameter (I think lambda is alpha in my code) so that model coefficients change. \n",
    "<img src = \"https://miro.medium.com/max/1496/1*6hJC8qMP3AFBVuJuBzE9Hw.png\" width = \"500px\">\n",
    "<br>\n",
    "<br>\n",
    "\n",
    "<mark>4.4. svr regression.</mark>\n",
    "<p style=\"text-indent :2em;\">This model was very slow and didn't prepare results in a short time, so we don't reiew it.</p>\n",
    "<br>\n",
    "\n",
    "<mark>4.5. light gbm regression.</mark>\n",
    "<p style=\"text-indent :2em;\">or gradient boosting methods. With LightGBM we can run different types of Gradient Boosting methods. for example : {gbdt (gradient boosted decision trees), dart gradient boosting, goss (Gradient-based One-Side Sampling)} we tuned parameters experimentally for this model and results were acceptable.</p>\n",
    "<img src = \"https://i0.wp.com/mlexplained.com/wp-content/uploads/2018/01/DecisionTrees_3_thumb.png?fit=1024%2C177&ssl=1\" width = \"700px\">\n",
    "<p style=\"text-indent :2em;\">In face lightGBM is a grows tree vertically (leaf-wise) while others grows horizontally. Leaf wise algorithms can can reduce more loss tha a level-wise (horizontally growing) algorithm.</p>\n",
    "<br>"
   ]
  },
  {
   "cell_type": "code",
   "execution_count": 23,
   "metadata": {},
   "outputs": [],
   "source": [
    "from sklearn.linear_model import LinearRegression\n",
    "from sklearn.metrics import mean_squared_error\n",
    "from sklearn.neighbors import KNeighborsRegressor\n",
    "from sklearn.ensemble import RandomForestRegressor\n",
    "from sklearn.datasets import make_regression\n",
    "from sklearn.metrics import mean_absolute_error\n",
    "from sklearn.linear_model import Ridge\n",
    "from sklearn.svm import SVR\n",
    "import lightgbm\n",
    "\n",
    "def doLinearRegression() : \n",
    "    linearTestPredic = []\n",
    "    linearTrainPredic = []\n",
    "    \n",
    "    clf = LinearRegression()\n",
    "    clf.fit(trainData, trainTarget)\n",
    "    \n",
    "    linearTestPredic = clf.predict(testData)\n",
    "       \n",
    "    linearTrainPredic = clf.predict(trainData)\n",
    "        \n",
    "    return [linearTrainPredic, linearTestPredic]\n",
    "\n",
    "def doRandomForest(d, n_est = 3, features = 0.5) : \n",
    "    rfTestPredic = []\n",
    "    rfTrainPredic = []\n",
    "    \n",
    "    regr = RandomForestRegressor(max_depth=d, random_state=0, n_estimators=n_est, max_features=features, max_samples=features)\n",
    "    regr.fit(trainData, trainTarget)\n",
    "    \n",
    "    rfTestPredic = regr.predict(testData)\n",
    "       \n",
    "    rfTrainPredic = regr.predict(trainData)\n",
    "        \n",
    "    return [rfTrainPredic, rfTestPredic]\n",
    "\n",
    "def doRidgeRegression(alp = 1.0) : \n",
    "    rgTestPredic = []\n",
    "    rgTrainPredic = []\n",
    "    \n",
    "    regr = Ridge(alpha=alp)\n",
    "    regr.fit(trainData, trainTarget)\n",
    "    \n",
    "    rgTestPredic = regr.predict(testData)\n",
    "       \n",
    "    rgTrainPredic = regr.predict(trainData)\n",
    "        \n",
    "    return [rgTrainPredic, rgTestPredic]\n",
    "\n",
    "def doSVRegression(cc = 1.0, eps = 0.2) : \n",
    "    svrTestPredic = []\n",
    "    svrTrainPredic = []\n",
    "    \n",
    "    regr = SVR(C=cc, epsilon=eps)\n",
    "    regr.fit(trainData, trainTarget)\n",
    "    \n",
    "    svrTestPredic = regr.predict(testData)\n",
    "       \n",
    "    svrTrainPredic = regr.predict(trainData)\n",
    "        \n",
    "    return [svrTrainPredic, svrTestPredic]\n",
    "\n",
    "def doLGBMegression(lv = 100, d=-1, lr = 0.5, n_est = 100) : \n",
    "    lgbmTestPredic = []\n",
    "    lgbmTrainPredic = []\n",
    "    \n",
    "    regr = lightgbm.LGBMRegressor(num_leaves=lv, max_depth = d, learning_rate=lr, n_estimators=n_est)\n",
    "    regr.fit(trainData, trainTarget)\n",
    "    \n",
    "    lgbmTestPredic = regr.predict(testData)\n",
    "       \n",
    "    lgbmTrainPredic = regr.predict(trainData)\n",
    "        \n",
    "    return [lgbmTrainPredic, lgbmTestPredic]"
   ]
  },
  {
   "cell_type": "markdown",
   "metadata": {},
   "source": [
    "<br>\n",
    "\n",
    "<h1 style= \"text-align: center\">Phase 5</h1>\n",
    "<br>\n",
    "<h3> 5. conclusion and results : </h3>\n",
    "\n",
    "<br>\n",
    "<p>As we said, light gbm works the best (~270,000 for mse and 155,000 for mae)</p>\n",
    "<p>random forest works better than linear and ridge which we explained in part 4</p>\n",
    "<p>and linear and ridge works almost the same, because as we said ridge is a variation of linears. sometimes it could works better than linear and sometimes not.</p>\n",
    "\n",
    "<b>Predictions are available in these values : linearPredics, rfPredicts, rgPredicts, and lgbmPredics</b>"
   ]
  },
  {
   "cell_type": "code",
   "execution_count": 30,
   "metadata": {},
   "outputs": [],
   "source": [
    "def printModelInfo(predicts, realValues) : \n",
    "    trainMSE = mean_squared_error(realValues[0], predicts[0], squared=False)\n",
    "    testMSE = mean_squared_error(realValues[1], predicts[1], squared=False)\n",
    "    print(\"train mse : \", trainMSE)\n",
    "    print(\"test mse : \",testMSE)\n",
    "\n",
    "    print(\"______________________\")\n",
    "    \n",
    "    trainMAE = mean_absolute_error(realValues[0], predicts[0])\n",
    "    testMAE = mean_absolute_error(realValues[1], predicts[1])\n",
    "    print(\"train mae : \", trainMAE)\n",
    "    print(\"test mae : \",trainMAE)"
   ]
  },
  {
   "cell_type": "code",
   "execution_count": 31,
   "metadata": {},
   "outputs": [
    {
     "name": "stdout",
     "output_type": "stream",
     "text": [
      "train mse :  297272.7309118093\n",
      "test mse :  301028.0482571395\n",
      "______________________\n",
      "train mae :  205042.4115494969\n",
      "test mae :  205042.4115494969\n"
     ]
    }
   ],
   "source": [
    "linearPredicts = doLinearRegression()\n",
    "printModelInfo(linearPredicts, [trainTarget, testTarget])"
   ]
  },
  {
   "cell_type": "code",
   "execution_count": 32,
   "metadata": {},
   "outputs": [
    {
     "name": "stdout",
     "output_type": "stream",
     "text": [
      "train mse :  258425.89904354038\n",
      "test mse :  287565.19490850123\n",
      "______________________\n",
      "train mae :  177334.34117509722\n",
      "test mae :  177334.34117509722\n"
     ]
    }
   ],
   "source": [
    "rfPredicts = doRandomForest(20, 100, 0.4)\n",
    "printModelInfo(rfPredicts, [trainTarget, testTarget])"
   ]
  },
  {
   "cell_type": "code",
   "execution_count": 33,
   "metadata": {},
   "outputs": [
    {
     "name": "stdout",
     "output_type": "stream",
     "text": [
      "train mse :  297277.79532661114\n",
      "test mse :  301029.0428111524\n",
      "______________________\n",
      "train mae :  205053.32447350307\n",
      "test mae :  205053.32447350307\n"
     ]
    }
   ],
   "source": [
    "rgPredicts = doRidgeRegression(1)\n",
    "printModelInfo(rgPredicts, [trainTarget, testTarget])"
   ]
  },
  {
   "cell_type": "code",
   "execution_count": 34,
   "metadata": {},
   "outputs": [
    {
     "name": "stdout",
     "output_type": "stream",
     "text": [
      "train mse :  233148.20166787627\n",
      "test mse :  270688.8813795453\n",
      "______________________\n",
      "train mae :  155221.07347362116\n",
      "test mae :  155221.07347362116\n"
     ]
    }
   ],
   "source": [
    "lgbmPredicts = doLGBMegression(165, -1, 0.1, 80)\n",
    "printModelInfo(lgbmPredicts, [trainTarget, testTarget])"
   ]
  },
  {
   "cell_type": "code",
   "execution_count": null,
   "metadata": {},
   "outputs": [],
   "source": []
  }
 ],
 "metadata": {
  "kernelspec": {
   "display_name": "Python 3",
   "language": "python",
   "name": "python3"
  },
  "language_info": {
   "codemirror_mode": {
    "name": "ipython",
    "version": 3
   },
   "file_extension": ".py",
   "mimetype": "text/x-python",
   "name": "python",
   "nbconvert_exporter": "python",
   "pygments_lexer": "ipython3",
   "version": "3.6.9"
  }
 },
 "nbformat": 4,
 "nbformat_minor": 4
}
